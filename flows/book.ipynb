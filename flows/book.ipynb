{
 "cells": [
  {
   "cell_type": "code",
   "execution_count": 2,
   "metadata": {},
   "outputs": [],
   "source": [
    "from metaflow import Flow, Run, Step, Task, DataArtifact"
   ]
  },
  {
   "cell_type": "code",
   "execution_count": 4,
   "metadata": {},
   "outputs": [
    {
     "data": {
      "text/plain": [
       "Flow('MachineLearningFlow')"
      ]
     },
     "execution_count": 4,
     "metadata": {},
     "output_type": "execute_result"
    }
   ],
   "source": [
    "Flow('MachineLearningFlow')"
   ]
  },
  {
   "cell_type": "code",
   "execution_count": 8,
   "metadata": {},
   "outputs": [
    {
     "name": "stdout",
     "output_type": "stream",
     "text": [
      "Run('MachineLearningFlow/3')\n",
      "Run('MachineLearningFlow/2')\n",
      "Run('MachineLearningFlow/1')\n"
     ]
    }
   ],
   "source": [
    "for run in Flow('MachineLearningFlow'):\n",
    "    print(run)"
   ]
  },
  {
   "cell_type": "code",
   "execution_count": 9,
   "metadata": {},
   "outputs": [
    {
     "name": "stdout",
     "output_type": "stream",
     "text": [
      "Step('MachineLearningFlow/3/end')\n",
      "Step('MachineLearningFlow/3/save')\n",
      "Step('MachineLearningFlow/3/evaluate')\n",
      "Step('MachineLearningFlow/3/train')\n",
      "Step('MachineLearningFlow/3/split')\n",
      "Step('MachineLearningFlow/3/preprocess')\n",
      "Step('MachineLearningFlow/3/load')\n",
      "Step('MachineLearningFlow/3/start')\n"
     ]
    }
   ],
   "source": [
    "for step in Run('MachineLearningFlow/3'):\n",
    "    print(step)"
   ]
  },
  {
   "cell_type": "code",
   "execution_count": 10,
   "metadata": {},
   "outputs": [
    {
     "name": "stdout",
     "output_type": "stream",
     "text": [
      "Task('MachineLearningFlow/3/evaluate/16')\n"
     ]
    }
   ],
   "source": [
    "for task in Step('MachineLearningFlow/3/evaluate'):\n",
    "    print(task)"
   ]
  },
  {
   "cell_type": "code",
   "execution_count": 11,
   "metadata": {},
   "outputs": [
    {
     "name": "stdout",
     "output_type": "stream",
     "text": [
      "DataArtifact('MachineLearningFlow/3/evaluate/16/accuracy')\n",
      "DataArtifact('MachineLearningFlow/3/evaluate/16/cm')\n",
      "DataArtifact('MachineLearningFlow/3/evaluate/16/f1')\n",
      "DataArtifact('MachineLearningFlow/3/evaluate/16/precision')\n",
      "DataArtifact('MachineLearningFlow/3/evaluate/16/recall')\n",
      "DataArtifact('MachineLearningFlow/3/evaluate/16/model')\n",
      "DataArtifact('MachineLearningFlow/3/evaluate/16/test_features')\n",
      "DataArtifact('MachineLearningFlow/3/evaluate/16/test_labels')\n",
      "DataArtifact('MachineLearningFlow/3/evaluate/16/train_features')\n",
      "DataArtifact('MachineLearningFlow/3/evaluate/16/train_labels')\n",
      "DataArtifact('MachineLearningFlow/3/evaluate/16/correlation_matrix')\n",
      "DataArtifact('MachineLearningFlow/3/evaluate/16/data')\n",
      "DataArtifact('MachineLearningFlow/3/evaluate/16/name')\n"
     ]
    }
   ],
   "source": [
    "for data_artifacts in Task('MachineLearningFlow/3/evaluate/16'):\n",
    "    print(data_artifacts)"
   ]
  },
  {
   "cell_type": "code",
   "execution_count": 20,
   "metadata": {},
   "outputs": [
    {
     "data": {
      "text/plain": [
       "array([[628,  30],\n",
       "       [ 36, 306]])"
      ]
     },
     "execution_count": 20,
     "metadata": {},
     "output_type": "execute_result"
    }
   ],
   "source": [
    "# CONFUSION MATRIX\n",
    "DataArtifact('MachineLearningFlow/3/evaluate/16/cm').data"
   ]
  },
  {
   "cell_type": "code",
   "execution_count": 21,
   "metadata": {},
   "outputs": [
    {
     "data": {
      "text/plain": [
       "0.934"
      ]
     },
     "execution_count": 21,
     "metadata": {},
     "output_type": "execute_result"
    }
   ],
   "source": [
    "# ACCURACY\n",
    "DataArtifact('MachineLearningFlow/3/evaluate/16/accuracy').data"
   ]
  },
  {
   "cell_type": "code",
   "execution_count": 22,
   "metadata": {},
   "outputs": [
    {
     "data": {
      "text/plain": [
       "0.9107142857142857"
      ]
     },
     "execution_count": 22,
     "metadata": {},
     "output_type": "execute_result"
    }
   ],
   "source": [
    "# PRECISION\n",
    "DataArtifact('MachineLearningFlow/3/evaluate/16/precision').data"
   ]
  },
  {
   "cell_type": "code",
   "execution_count": 23,
   "metadata": {},
   "outputs": [
    {
     "data": {
      "text/plain": [
       "0.8947368421052632"
      ]
     },
     "execution_count": 23,
     "metadata": {},
     "output_type": "execute_result"
    }
   ],
   "source": [
    "# RECALL\n",
    "DataArtifact('MachineLearningFlow/3/evaluate/16/recall').data"
   ]
  },
  {
   "cell_type": "code",
   "execution_count": 24,
   "metadata": {},
   "outputs": [
    {
     "data": {
      "text/plain": [
       "0.9026548672566371"
      ]
     },
     "execution_count": 24,
     "metadata": {},
     "output_type": "execute_result"
    }
   ],
   "source": [
    "# F1 SCORE\n",
    "DataArtifact('MachineLearningFlow/3/evaluate/16/f1').data"
   ]
  },
  {
   "cell_type": "code",
   "execution_count": 26,
   "metadata": {},
   "outputs": [
    {
     "data": {
      "text/plain": [
       "'v2025-01-29T17:52:52'"
      ]
     },
     "execution_count": 26,
     "metadata": {},
     "output_type": "execute_result"
    }
   ],
   "source": [
    "# Model Version\n",
    "DataArtifact('MachineLearningFlow/3/save/17/model_version').data"
   ]
  }
 ],
 "metadata": {
  "kernelspec": {
   "display_name": "venv",
   "language": "python",
   "name": "python3"
  },
  "language_info": {
   "codemirror_mode": {
    "name": "ipython",
    "version": 3
   },
   "file_extension": ".py",
   "mimetype": "text/x-python",
   "name": "python",
   "nbconvert_exporter": "python",
   "pygments_lexer": "ipython3",
   "version": "3.12.3"
  }
 },
 "nbformat": 4,
 "nbformat_minor": 2
}
